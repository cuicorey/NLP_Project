{
 "cells": [
  {
   "cell_type": "code",
   "execution_count": null,
   "metadata": {},
   "outputs": [],
   "source": [
    "import os      \n",
    "import pandas as pd\n",
    "import numpy as np\n",
    "import requests\n",
    "import re\n\n",
    "from lxml import etree\n",
    "from urllib.request import urlretrieve\n",
    "import time\n",
    "from tqdm import tqdm\n",
    "from urllib.request import urlopen\n",
    "from urllib.request import urlretrieve\n",
    "import cgi"
   ]
  },
  {
   "cell_type": "code",
   "execution_count": null,
   "metadata": {},
   "outputs": [],
   "source": [
    "def get_url(str):            \n",
    "    return str.split('\"')[1]"
   ]
  },
  {
   "cell_type": "code",
   "execution_count": null,
   "metadata": {},
   "outputs": [],
   "source": [
    "def pdf_url(url):\n",
    "    html = requests.get(url).text\n",
    "    url = re.findall(\"(?<=href=).*(?=class)\", html) \n",
    "    return \"http://news.windin.com/ns/\" + url[0] "
   ]
  },
  {
   "cell_type": "code",
   "execution_count": null,
   "metadata": {},
   "outputs": [],
   "source": [
    "def get_pdf_url(df):\n",
    "    try:\n",
    "        with tqdm (range(0, df.shape[0]), ncols=80, desc = \"爬取文件链接 进度\") as t:\n",
    "            for i in t:\n",
    "                times = 1\n",
    "                while times <= 3:\n",
    "                    try:\n",
    "                        df[\"PDF地址\"][i]= pdf_url(df[\"公告地址\"][i])\n",
    "                        break\n",
    "                    except OSError:\n",
    "                        times += 1\n",
    "                        print(\"获取 \", df[\"公告标题\"][i], \" 链接时出现问题\")\n",
    "                        print(f\"休息5秒！再试第{times}次!\")\n",
    "                        time.sleep(5)\n",
    "    except KeyboardInterrupt:\n",
    "        t.close()\n",
    "        raise\n",
    "    t.close()"
   ]
  },
  {
   "cell_type": "code",
   "execution_count": null,
   "metadata": {},
   "outputs": [],
   "source": [
    "def change_name(df):\n",
    "    for i in range (0, df.shape[0]):\n",
    "        df.iloc[i][2] = df.iloc[i][2].replace(\":\", \"\")\n",
    "        df.iloc[i][2] = df.iloc[i][2].replace(\"*\", \"\")"
   ]
  },
  {
   "cell_type": "code",
   "execution_count": null,
   "metadata": {},
   "outputs": [],
   "source": [
    "def download(download_path, df):\n",
    "    try:\n",
    "        with tqdm (range(0,df.shape[0]),desc = \"文件下载 进度\", ncols=80) as t:\n",
    "            for i in t:\n",
    "                times = 1\n",
    "                while times <= 3:\n",
    "                    try:\n",
    "                        name = df[\"证券代码\"][i][:6] + \"_\" + df['公告标题'][i] + \"_\" + df[\"公告日期\"][i] #文件名称\n",
    "                        url = df[\"PDF地址\"][i] #文件地址\n",
    "                        remotefile = urlopen(url)\n",
    "                        blah = remotefile.info()['Content-Disposition']\n",
    "                        value, params = cgi.parse_header(blah)\n",
    "                        filename = name + \".\" + params[\"filename\"].split(\".\")[-1] #获取扩展名                  \n",
    "                        urlretrieve(url, filename =  download_path + filename) #下载p文件\n",
    "                        break\n",
    "                    except OSError:\n",
    "                        times += 1\n",
    "                        print(\"下载\", df[\"公告标题\"][i], \"时出现问题\")\n",
    "                        print(f\"休息5秒！再试第{times}次!\")\n",
    "                        time.sleep(5)\n",
    "                \n",
    "                #print(f\"成功下载{name}！\")\n",
    "            print(\"成功下载所有文件！\")\n",
    "    \n",
    "    except KeyboardInterrupt:\n",
    "        t.close()\n",
    "        raise\n",
    "    t.close()"
   ]
  },
  {
   "cell_type": "code",
   "execution_count": null,
   "metadata": {},
   "outputs": [],
   "source": [
    "def run(download_path, df):\n",
    "    df[\"公告地址\"] = df[\"公告地址\"].apply(get_url)\n",
    "    df[\"PDF地址\"] = np.nan\n",
    "    get_pdf_url(df)\n",
    "    change_name(df)\n",
    "    return df"
   ]
  },
  {
   "cell_type": "code",
   "execution_count": null,
   "metadata": {},
   "outputs": [],
   "source": [
    "def main(excel_path, download_path):\n",
    "    df = pd.read_excel(excel_path)\n",
    "    df = run(download_path, df)\n",
    "    download(download_path, df)\n",
    "    return df"
   ]
  },
  {
   "cell_type": "code",
   "execution_count": null,
   "metadata": {},
   "outputs": [],
   "source": [
    "if __name__ == '__main__':\n",
    "    excel_path = \"E:\\\\NLP_Dataset\\\\会议记录\\\\xls\\\\公司公告2020-06-27(26).xlsx\"\n",
    "    download_path = \"E:\\\\NLP_Dataset\\\\活动记录表\\\\非银行金融\\\\pdf\\\\\" #以\\\\结尾\n",
    "    df = main (excel_path, download_path)"
   ]
  }
 ],
 "metadata": {
  "kernelspec": {
   "display_name": "Python 3",
   "language": "python",
   "name": "python3"
  },
  "language_info": {
   "codemirror_mode": {
    "name": "ipython",
    "version": 3
   },
   "file_extension": ".py",
   "mimetype": "text/x-python",
   "name": "python",
   "nbconvert_exporter": "python",
   "pygments_lexer": "ipython3",
   "version": "3.7.3"
  }
 },
 "nbformat": 4,
 "nbformat_minor": 2
}
